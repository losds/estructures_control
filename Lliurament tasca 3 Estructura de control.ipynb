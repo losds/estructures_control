{
 "cells": [
  {
   "cell_type": "markdown",
   "metadata": {},
   "source": [
    "\n",
    "# Exercici 1\n",
    "\n",
    "L'exercici consisteix a crear un programa que et classifiqui una variable numèrica en funció de l’escala Suspès/Aprovat/Notable/Excel·lent. \n",
    "\n",
    "    0-4.9 : Suspens\n",
    "    5,0-6,9 : Aprovat\n",
    "    7,0-8,9 : Notable\n",
    "    9,0-10 : Excel·lent / Matrícula d'Honor\n",
    "\n"
   ]
  },
  {
   "cell_type": "code",
   "execution_count": 12,
   "metadata": {},
   "outputs": [],
   "source": [
    "import numbers"
   ]
  },
  {
   "cell_type": "code",
   "execution_count": 37,
   "metadata": {},
   "outputs": [],
   "source": [
    "def num2letra(numero):\n",
    "    \n",
    "    numbr=isinstance(numero, numbers.Number)\n",
    "    if numbr:\n",
    "        if numero<=4.999999999999:\n",
    "            return \"Suspens\"\n",
    "        elif numero>=5 and numero<=6.999999999999:\n",
    "            return \"Aprovat\"\n",
    "        elif numero>=7 and numero<=8.999999999999:\n",
    "            return \"Notable\"\n",
    "        elif 9.0<=numero<=10:\n",
    "            return \"Excel·lent\"\n",
    "        else:\n",
    "            print(\"Recuerda el numero no puede superar 10\")\n",
    "    else:\n",
    "        print(\"Hay que introducir el numero\")\n",
    "   "
   ]
  },
  {
   "cell_type": "code",
   "execution_count": 38,
   "metadata": {},
   "outputs": [
    {
     "name": "stdout",
     "output_type": "stream",
     "text": [
      "Hay que introducir el numero\n"
     ]
    }
   ],
   "source": [
    "num2letra(\"asdf\")"
   ]
  },
  {
   "cell_type": "code",
   "execution_count": 28,
   "metadata": {},
   "outputs": [
    {
     "data": {
      "text/plain": [
       "'Suspens'"
      ]
     },
     "execution_count": 28,
     "metadata": {},
     "output_type": "execute_result"
    }
   ],
   "source": [
    "num2letra(-7)"
   ]
  },
  {
   "cell_type": "code",
   "execution_count": 39,
   "metadata": {},
   "outputs": [
    {
     "data": {
      "text/plain": [
       "'Suspens'"
      ]
     },
     "execution_count": 39,
     "metadata": {},
     "output_type": "execute_result"
    }
   ],
   "source": [
    "num2letra(4.99)"
   ]
  },
  {
   "cell_type": "code",
   "execution_count": 40,
   "metadata": {},
   "outputs": [
    {
     "data": {
      "text/plain": [
       "'Aprovat'"
      ]
     },
     "execution_count": 40,
     "metadata": {},
     "output_type": "execute_result"
    }
   ],
   "source": [
    "num2letra(5)"
   ]
  },
  {
   "cell_type": "code",
   "execution_count": 41,
   "metadata": {},
   "outputs": [
    {
     "data": {
      "text/plain": [
       "'Aprovat'"
      ]
     },
     "execution_count": 41,
     "metadata": {},
     "output_type": "execute_result"
    }
   ],
   "source": [
    "num2letra(6.9999)"
   ]
  },
  {
   "cell_type": "code",
   "execution_count": 42,
   "metadata": {},
   "outputs": [
    {
     "data": {
      "text/plain": [
       "'Notable'"
      ]
     },
     "execution_count": 42,
     "metadata": {},
     "output_type": "execute_result"
    }
   ],
   "source": [
    "num2letra(7)"
   ]
  },
  {
   "cell_type": "code",
   "execution_count": 43,
   "metadata": {},
   "outputs": [
    {
     "data": {
      "text/plain": [
       "'Excel·lent'"
      ]
     },
     "execution_count": 43,
     "metadata": {},
     "output_type": "execute_result"
    }
   ],
   "source": [
    "num2letra(9.0)"
   ]
  },
  {
   "cell_type": "markdown",
   "metadata": {},
   "source": [
    "# Exercici 2\n",
    "\n",
    "Utilitzant el següent tutorial Programiz: Python Input, Output and Import crea un programa que et pregunti dos números. T’ha de mostrar un missatge dient si el primer és més gran, el segon és més gran o són iguals."
   ]
  },
  {
   "cell_type": "code",
   "execution_count": 62,
   "metadata": {},
   "outputs": [
    {
     "name": "stdout",
     "output_type": "stream",
     "text": [
      "Introduce primer numero:2\n",
      "Introduce  segundo numero:3\n",
      "Segundo numero es mas grande\n"
     ]
    }
   ],
   "source": [
    "try:\n",
    "    primer =float(input('Introduce primer numero:'))\n",
    "    segon =float(input('Introduce  segundo numero:'))\n",
    "    if (primer>segon):\n",
    "        print(\"Primer numero es mas grande\")\n",
    "    elif segon>primer:\n",
    "        print(\"Segundo numero es mas grande\")\n",
    "    else:\n",
    "        print(\"Los numeros son iguales\")\n",
    "    \n",
    "except:\n",
    "    print(\"Hay que introducir numero revisa\") \n",
    "    \n",
    "    \n",
    "\n"
   ]
  },
  {
   "cell_type": "markdown",
   "metadata": {},
   "source": [
    "# Exercici 3\n",
    "\n",
    "Crea un programa que et pregunti el teu nom, i et demani un número. Si el número és 0, hauria de mostrar un missatge d’error. En cas contrari, hauria de mostrar el nom repetit tants cops com indiqui el número. Per exemple, “Joan Joan Joan”."
   ]
  },
  {
   "cell_type": "code",
   "execution_count": 88,
   "metadata": {},
   "outputs": [
    {
     "name": "stdout",
     "output_type": "stream",
     "text": [
      "Como te llamas:Ivan\n",
      "Introduce un numero:3\n",
      " Ivan Ivan Ivan\n"
     ]
    }
   ],
   "source": [
    "try:\n",
    "    nombre=str(input('Como te llamas:'))\n",
    "    numero=abs(int(input('Introduce un numero:')))\n",
    "    if numero == 0:\n",
    "        print(\"Error. Has introducido 0\")\n",
    "    else:\n",
    "        #lis=[nombre for x in range(numero)]\n",
    "        #print(lis)\n",
    "        #for  x in range(numero):\n",
    "        #    print(nombre)\n",
    "        nom_num=''\n",
    "        for x in range(numero):\n",
    "            nom_num=nom_num+' '+nombre\n",
    "        print (nom_num)\n",
    "    \n",
    "except:\n",
    "     print(\"Dato introducido incorrecto por favor revisa\") \n"
   ]
  },
  {
   "cell_type": "markdown",
   "metadata": {},
   "source": [
    "# Exercici 4\n",
    "\n",
    "Crea un programa que donada una llista qualsevol, et digui si es simètrica o no. Si ho és, que et digui quants elements té."
   ]
  },
  {
   "cell_type": "code",
   "execution_count": 155,
   "metadata": {},
   "outputs": [],
   "source": [
    "def listasimetrica(lista):\n",
    "    long=len(lista)\n",
    "    for x in range(long):\n",
    "        if(lista[x]!=lista[long-x-1]):\n",
    "            print(f\"La lista {lista} no es simetrica\")\n",
    "            break   \n",
    "        elif x==(long-1):\n",
    "            print(f\"La lista {lista} es simetrica\")\n",
    "        "
   ]
  },
  {
   "cell_type": "code",
   "execution_count": 157,
   "metadata": {},
   "outputs": [
    {
     "name": "stdout",
     "output_type": "stream",
     "text": [
      "La lista [4, 2, 4, 5] no es simetrica\n"
     ]
    }
   ],
   "source": [
    "listasimetrica([4,2,4,5])"
   ]
  },
  {
   "cell_type": "markdown",
   "metadata": {},
   "source": [
    "# Exercici 5\n",
    "\n",
    "Crea un programa que donada una llista, et digui quants números coincideixen amb la seva posició. Per exemple [3,4,2,0,2,3,6] el 2 i el 6 coincideixen."
   ]
  },
  {
   "cell_type": "code",
   "execution_count": 160,
   "metadata": {},
   "outputs": [],
   "source": [
    "def coincideposicion(lista):\n",
    "    long= len(lista)\n",
    "    coinciden=0\n",
    "    for x in range(long):\n",
    "        if lista[x]==x:\n",
    "            coinciden=coinciden+1\n",
    "        \n",
    "    print(f\"En total coincide/n {coinciden} numero/s con su posicion \")\n",
    "    "
   ]
  },
  {
   "cell_type": "code",
   "execution_count": 161,
   "metadata": {},
   "outputs": [
    {
     "name": "stdout",
     "output_type": "stream",
     "text": [
      "En total coincide/n 2 numero/s con su posicion \n"
     ]
    }
   ],
   "source": [
    "coincideposicion([3,4,2,0,2,3,6])"
   ]
  },
  {
   "cell_type": "code",
   "execution_count": null,
   "metadata": {},
   "outputs": [],
   "source": []
  }
 ],
 "metadata": {
  "kernelspec": {
   "display_name": "Python 3",
   "language": "python",
   "name": "python3"
  },
  "language_info": {
   "codemirror_mode": {
    "name": "ipython",
    "version": 3
   },
   "file_extension": ".py",
   "mimetype": "text/x-python",
   "name": "python",
   "nbconvert_exporter": "python",
   "pygments_lexer": "ipython3",
   "version": "3.8.3"
  }
 },
 "nbformat": 4,
 "nbformat_minor": 4
}
